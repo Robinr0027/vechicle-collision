{
 "cells": [
  {
   "cell_type": "code",
   "execution_count": 1,
   "id": "c22e4849",
   "metadata": {
    "_cell_guid": "b1076dfc-b9ad-4769-8c92-a6c4dae69d19",
    "_uuid": "8f2839f25d086af736a60e9eeb907d3b93b6e0e5",
    "execution": {
     "iopub.execute_input": "2022-06-06T11:22:04.284474Z",
     "iopub.status.busy": "2022-06-06T11:22:04.283842Z",
     "iopub.status.idle": "2022-06-06T11:22:10.971949Z",
     "shell.execute_reply": "2022-06-06T11:22:10.971144Z",
     "shell.execute_reply.started": "2022-06-06T10:46:28.537996Z"
    },
    "papermill": {
     "duration": 6.715324,
     "end_time": "2022-06-06T11:22:10.972115",
     "exception": false,
     "start_time": "2022-06-06T11:22:04.256791",
     "status": "completed"
    },
    "tags": []
   },
   "outputs": [],
   "source": [
    "import numpy as np\n",
    "import pandas as pd \n",
    "import matplotlib.pyplot as plt\n",
    "import tensorflow as tf\n",
    "from tensorflow.keras import layers\n",
    "from time import perf_counter \n",
    "import os\n",
    "from keras.callbacks import ModelCheckpoint\n",
    "from keras.models import load_model\n",
    "from tensorflow.keras.utils import plot_model"
   ]
  },
  {
   "cell_type": "code",
   "execution_count": 2,
   "id": "75070279",
   "metadata": {
    "execution": {
     "iopub.execute_input": "2022-06-06T11:22:11.006494Z",
     "iopub.status.busy": "2022-06-06T11:22:11.005804Z",
     "iopub.status.idle": "2022-06-06T11:22:11.008733Z",
     "shell.execute_reply": "2022-06-06T11:22:11.008225Z",
     "shell.execute_reply.started": "2022-06-06T10:46:31.286079Z"
    },
    "papermill": {
     "duration": 0.021664,
     "end_time": "2022-06-06T11:22:11.008874",
     "exception": false,
     "start_time": "2022-06-06T11:22:10.987210",
     "status": "completed"
    },
    "tags": []
   },
   "outputs": [],
   "source": [
    "batch_size = 100\n",
    "img_height = 250\n",
    "img_width = 250"
   ]
  },
  {
   "cell_type": "code",
   "execution_count": 3,
   "id": "eed3d696",
   "metadata": {
    "execution": {
     "iopub.execute_input": "2022-06-06T11:22:11.043329Z",
     "iopub.status.busy": "2022-06-06T11:22:11.042666Z",
     "iopub.status.idle": "2022-06-06T11:22:11.281141Z",
     "shell.execute_reply": "2022-06-06T11:22:11.281663Z",
     "shell.execute_reply.started": "2022-06-06T10:46:31.292379Z"
    },
    "papermill": {
     "duration": 0.258275,
     "end_time": "2022-06-06T11:22:11.281841",
     "exception": false,
     "start_time": "2022-06-06T11:22:11.023566",
     "status": "completed"
    },
    "tags": []
   },
   "outputs": [
    {
     "name": "stdout",
     "output_type": "stream",
     "text": [
      "Found 791 files belonging to 2 classes.\n"
     ]
    }
   ],
   "source": [
    "training_data = tf.keras.preprocessing.image_dataset_from_directory(\n",
    "    'data/train',\n",
    "    seed=42,\n",
    "    image_size= (img_height, img_width),\n",
    "    batch_size=batch_size,\n",
    "    color_mode='rgb'\n",
    ")"
   ]
  },
  {
   "cell_type": "code",
   "execution_count": 4,
   "id": "d52bb780",
   "metadata": {
    "execution": {
     "iopub.execute_input": "2022-06-06T11:22:11.318440Z",
     "iopub.status.busy": "2022-06-06T11:22:11.317741Z",
     "iopub.status.idle": "2022-06-06T11:22:11.437737Z",
     "shell.execute_reply": "2022-06-06T11:22:11.438464Z",
     "shell.execute_reply.started": "2022-06-06T10:46:31.868234Z"
    },
    "papermill": {
     "duration": 0.141084,
     "end_time": "2022-06-06T11:22:11.438707",
     "exception": false,
     "start_time": "2022-06-06T11:22:11.297623",
     "status": "completed"
    },
    "tags": []
   },
   "outputs": [
    {
     "name": "stdout",
     "output_type": "stream",
     "text": [
      "Found 98 files belonging to 2 classes.\n"
     ]
    }
   ],
   "source": [
    "validation_data =  tf.keras.preprocessing.image_dataset_from_directory(\n",
    "    'data/val',\n",
    "    seed=42,\n",
    "    image_size= (img_height, img_width),\n",
    "    batch_size=batch_size,\n",
    "    color_mode='rgb'\n",
    ")"
   ]
  },
  {
   "cell_type": "code",
   "execution_count": 5,
   "id": "a5216ed0",
   "metadata": {
    "execution": {
     "iopub.execute_input": "2022-06-06T11:22:11.474428Z",
     "iopub.status.busy": "2022-06-06T11:22:11.473769Z",
     "iopub.status.idle": "2022-06-06T11:22:11.597522Z",
     "shell.execute_reply": "2022-06-06T11:22:11.596930Z",
     "shell.execute_reply.started": "2022-06-06T10:46:31.998384Z"
    },
    "papermill": {
     "duration": 0.142358,
     "end_time": "2022-06-06T11:22:11.597671",
     "exception": false,
     "start_time": "2022-06-06T11:22:11.455313",
     "status": "completed"
    },
    "tags": []
   },
   "outputs": [
    {
     "name": "stdout",
     "output_type": "stream",
     "text": [
      "Found 100 files belonging to 2 classes.\n"
     ]
    }
   ],
   "source": [
    "testing_data = tf.keras.preprocessing.image_dataset_from_directory(\n",
    "    'data/test',\n",
    "    seed=42,\n",
    "    image_size= (img_height, img_width),\n",
    "    batch_size=batch_size,\n",
    "    color_mode='rgb'\n",
    ")"
   ]
  },
  {
   "cell_type": "code",
   "execution_count": 6,
   "id": "0f6cb045",
   "metadata": {
    "execution": {
     "iopub.execute_input": "2022-06-06T11:22:11.639051Z",
     "iopub.status.busy": "2022-06-06T11:22:11.638119Z",
     "iopub.status.idle": "2022-06-06T11:22:11.642875Z",
     "shell.execute_reply": "2022-06-06T11:22:11.642232Z",
     "shell.execute_reply.started": "2022-06-06T10:46:32.123352Z"
    },
    "papermill": {
     "duration": 0.029358,
     "end_time": "2022-06-06T11:22:11.643040",
     "exception": false,
     "start_time": "2022-06-06T11:22:11.613682",
     "status": "completed"
    },
    "tags": []
   },
   "outputs": [
    {
     "data": {
      "text/plain": [
       "<BatchDataset element_spec=(TensorSpec(shape=(None, 250, 250, 3), dtype=tf.float32, name=None), TensorSpec(shape=(None,), dtype=tf.int32, name=None))>"
      ]
     },
     "execution_count": 6,
     "metadata": {},
     "output_type": "execute_result"
    }
   ],
   "source": [
    "testing_data"
   ]
  },
  {
   "cell_type": "code",
   "execution_count": 7,
   "id": "cca4892e",
   "metadata": {
    "execution": {
     "iopub.execute_input": "2022-06-06T11:22:11.682246Z",
     "iopub.status.busy": "2022-06-06T11:22:11.681351Z",
     "iopub.status.idle": "2022-06-06T11:22:11.685497Z",
     "shell.execute_reply": "2022-06-06T11:22:11.684898Z",
     "shell.execute_reply.started": "2022-06-06T10:46:32.135442Z"
    },
    "papermill": {
     "duration": 0.025718,
     "end_time": "2022-06-06T11:22:11.685637",
     "exception": false,
     "start_time": "2022-06-06T11:22:11.659919",
     "status": "completed"
    },
    "tags": []
   },
   "outputs": [
    {
     "data": {
      "text/plain": [
       "['Accident', 'Non Accident']"
      ]
     },
     "execution_count": 7,
     "metadata": {},
     "output_type": "execute_result"
    }
   ],
   "source": [
    "class_names = training_data.class_names\n",
    "class_names"
   ]
  },
  {
   "cell_type": "code",
   "execution_count": 8,
   "id": "5176cc78",
   "metadata": {
    "execution": {
     "iopub.execute_input": "2022-06-06T11:22:11.724575Z",
     "iopub.status.busy": "2022-06-06T11:22:11.723900Z",
     "iopub.status.idle": "2022-06-06T11:22:11.729144Z",
     "shell.execute_reply": "2022-06-06T11:22:11.729655Z",
     "shell.execute_reply.started": "2022-06-06T10:46:32.148210Z"
    },
    "papermill": {
     "duration": 0.027549,
     "end_time": "2022-06-06T11:22:11.729835",
     "exception": false,
     "start_time": "2022-06-06T11:22:11.702286",
     "status": "completed"
    },
    "tags": []
   },
   "outputs": [],
   "source": [
    "AUTOTUNE = tf.data.experimental.AUTOTUNE\n",
    "training_data = training_data.cache().prefetch(buffer_size=AUTOTUNE)\n",
    "testing_data = testing_data.cache().prefetch(buffer_size=AUTOTUNE)"
   ]
  },
  {
   "cell_type": "code",
   "execution_count": 9,
   "id": "82bc89e3",
   "metadata": {
    "execution": {
     "iopub.execute_input": "2022-06-06T11:22:11.768660Z",
     "iopub.status.busy": "2022-06-06T11:22:11.767963Z",
     "iopub.status.idle": "2022-06-06T11:22:11.826933Z",
     "shell.execute_reply": "2022-06-06T11:22:11.826211Z",
     "shell.execute_reply.started": "2022-06-06T10:46:32.163777Z"
    },
    "papermill": {
     "duration": 0.079717,
     "end_time": "2022-06-06T11:22:11.827076",
     "exception": false,
     "start_time": "2022-06-06T11:22:11.747359",
     "status": "completed"
    },
    "tags": []
   },
   "outputs": [],
   "source": [
    "model = tf.keras.models.Sequential([\n",
    "  layers.BatchNormalization(),\n",
    "  layers.Conv2D(32, 3, activation='relu'), # Conv2D(f_size, filter_size, activation) # relu, sigmoid, softmax\n",
    "  layers.MaxPooling2D(), # MaxPooling\n",
    "  layers.Conv2D(64, 3, activation='relu'),\n",
    "  layers.MaxPooling2D(),\n",
    "  layers.Conv2D(128, 3, activation='relu'),\n",
    "  layers.MaxPooling2D(),\n",
    "  layers.Conv2D(256, 3, activation='relu'),\n",
    "  layers.MaxPooling2D(),\n",
    "  layers.Flatten(),\n",
    "  layers.Dense(512, activation='relu'),\n",
    "  layers.Dense(len(class_names), activation= 'softmax')\n",
    "])\n",
    "\n",
    "model.compile(optimizer='adam',loss='sparse_categorical_crossentropy', metrics=['accuracy'])"
   ]
  },
  {
   "cell_type": "code",
   "execution_count": 10,
   "id": "3c69caf5",
   "metadata": {
    "execution": {
     "iopub.execute_input": "2022-06-06T11:22:11.866838Z",
     "iopub.status.busy": "2022-06-06T11:22:11.866008Z",
     "iopub.status.idle": "2022-06-06T11:22:12.150115Z",
     "shell.execute_reply": "2022-06-06T11:22:12.149113Z",
     "shell.execute_reply.started": "2022-06-06T10:46:33.004393Z"
    },
    "papermill": {
     "duration": 0.306291,
     "end_time": "2022-06-06T11:22:12.150305",
     "exception": false,
     "start_time": "2022-06-06T11:22:11.844014",
     "status": "completed"
    },
    "tags": []
   },
   "outputs": [
    {
     "name": "stdout",
     "output_type": "stream",
     "text": [
      "Model: \"sequential\"\n",
      "_________________________________________________________________\n",
      " Layer (type)                Output Shape              Param #   \n",
      "=================================================================\n",
      " batch_normalization (BatchN  (None, 250, 250, 3)      12        \n",
      " ormalization)                                                   \n",
      "                                                                 \n",
      " conv2d (Conv2D)             (None, 248, 248, 32)      896       \n",
      "                                                                 \n",
      " max_pooling2d (MaxPooling2D  (None, 124, 124, 32)     0         \n",
      " )                                                               \n",
      "                                                                 \n",
      " conv2d_1 (Conv2D)           (None, 122, 122, 64)      18496     \n",
      "                                                                 \n",
      " max_pooling2d_1 (MaxPooling  (None, 61, 61, 64)       0         \n",
      " 2D)                                                             \n",
      "                                                                 \n",
      " conv2d_2 (Conv2D)           (None, 59, 59, 128)       73856     \n",
      "                                                                 \n",
      " max_pooling2d_2 (MaxPooling  (None, 29, 29, 128)      0         \n",
      " 2D)                                                             \n",
      "                                                                 \n",
      " conv2d_3 (Conv2D)           (None, 27, 27, 256)       295168    \n",
      "                                                                 \n",
      " max_pooling2d_3 (MaxPooling  (None, 13, 13, 256)      0         \n",
      " 2D)                                                             \n",
      "                                                                 \n",
      " flatten (Flatten)           (None, 43264)             0         \n",
      "                                                                 \n",
      " dense (Dense)               (None, 512)               22151680  \n",
      "                                                                 \n",
      " dense_1 (Dense)             (None, 2)                 1026      \n",
      "                                                                 \n",
      "=================================================================\n",
      "Total params: 22,541,134\n",
      "Trainable params: 22,541,128\n",
      "Non-trainable params: 6\n",
      "_________________________________________________________________\n"
     ]
    }
   ],
   "source": [
    "model.build((None, 250, 250, 3))\n",
    "model.summary()"
   ]
  },
  {
   "cell_type": "code",
   "execution_count": 11,
   "id": "0192e7be",
   "metadata": {
    "execution": {
     "iopub.execute_input": "2022-06-06T11:22:13.493997Z",
     "iopub.status.busy": "2022-06-06T11:22:13.493302Z",
     "iopub.status.idle": "2022-06-06T11:45:04.193237Z",
     "shell.execute_reply": "2022-06-06T11:45:04.194020Z",
     "shell.execute_reply.started": "2022-06-06T10:46:34.771213Z"
    },
    "papermill": {
     "duration": 1370.724139,
     "end_time": "2022-06-06T11:45:04.194454",
     "exception": false,
     "start_time": "2022-06-06T11:22:13.470315",
     "status": "completed"
    },
    "tags": []
   },
   "outputs": [
    {
     "name": "stdout",
     "output_type": "stream",
     "text": [
      "Epoch 1/20\n",
      "8/8 [==============================] - ETA: 0s - loss: 3.3821 - accuracy: 0.5209\n",
      "Epoch 1: val_accuracy improved from -inf to 0.46939, saving model to model_weights.h5\n",
      "8/8 [==============================] - 85s 10s/step - loss: 3.3821 - accuracy: 0.5209 - val_loss: 0.7013 - val_accuracy: 0.4694\n",
      "Epoch 2/20\n",
      "8/8 [==============================] - ETA: 0s - loss: 0.6821 - accuracy: 0.5676\n",
      "Epoch 2: val_accuracy improved from 0.46939 to 0.59184, saving model to model_weights.h5\n",
      "8/8 [==============================] - 74s 9s/step - loss: 0.6821 - accuracy: 0.5676 - val_loss: 0.6777 - val_accuracy: 0.5918\n",
      "Epoch 3/20\n",
      "8/8 [==============================] - ETA: 0s - loss: 0.6383 - accuracy: 0.6612\n",
      "Epoch 3: val_accuracy did not improve from 0.59184\n",
      "8/8 [==============================] - 70s 9s/step - loss: 0.6383 - accuracy: 0.6612 - val_loss: 0.8903 - val_accuracy: 0.4694\n",
      "Epoch 4/20\n",
      "8/8 [==============================] - ETA: 0s - loss: 0.6153 - accuracy: 0.6485\n",
      "Epoch 4: val_accuracy did not improve from 0.59184\n",
      "8/8 [==============================] - 70s 9s/step - loss: 0.6153 - accuracy: 0.6485 - val_loss: 0.7045 - val_accuracy: 0.5102\n",
      "Epoch 5/20\n",
      "8/8 [==============================] - ETA: 0s - loss: 0.5880 - accuracy: 0.6852\n",
      "Epoch 5: val_accuracy improved from 0.59184 to 0.63265, saving model to model_weights.h5\n",
      "8/8 [==============================] - 74s 9s/step - loss: 0.5880 - accuracy: 0.6852 - val_loss: 0.5845 - val_accuracy: 0.6327\n",
      "Epoch 6/20\n",
      "8/8 [==============================] - ETA: 0s - loss: 0.5566 - accuracy: 0.7143\n",
      "Epoch 6: val_accuracy improved from 0.63265 to 0.74490, saving model to model_weights.h5\n",
      "8/8 [==============================] - 80s 10s/step - loss: 0.5566 - accuracy: 0.7143 - val_loss: 0.5446 - val_accuracy: 0.7449\n",
      "Epoch 7/20\n",
      "8/8 [==============================] - ETA: 0s - loss: 0.5225 - accuracy: 0.7370\n",
      "Epoch 7: val_accuracy did not improve from 0.74490\n",
      "8/8 [==============================] - 79s 10s/step - loss: 0.5225 - accuracy: 0.7370 - val_loss: 0.5272 - val_accuracy: 0.7347\n",
      "Epoch 8/20\n",
      "8/8 [==============================] - ETA: 0s - loss: 0.4787 - accuracy: 0.7649 \n",
      "Epoch 8: val_accuracy improved from 0.74490 to 0.76531, saving model to model_weights.h5\n",
      "8/8 [==============================] - 89s 11s/step - loss: 0.4787 - accuracy: 0.7649 - val_loss: 0.4765 - val_accuracy: 0.7653\n",
      "Epoch 9/20\n",
      "8/8 [==============================] - ETA: 0s - loss: 0.4234 - accuracy: 0.8104\n",
      "Epoch 9: val_accuracy improved from 0.76531 to 0.80612, saving model to model_weights.h5\n",
      "8/8 [==============================] - 79s 10s/step - loss: 0.4234 - accuracy: 0.8104 - val_loss: 0.4333 - val_accuracy: 0.8061\n",
      "Epoch 10/20\n",
      "8/8 [==============================] - ETA: 0s - loss: 0.3463 - accuracy: 0.8483 \n",
      "Epoch 10: val_accuracy improved from 0.80612 to 0.83673, saving model to model_weights.h5\n",
      "8/8 [==============================] - 84s 11s/step - loss: 0.3463 - accuracy: 0.8483 - val_loss: 0.3988 - val_accuracy: 0.8367\n",
      "Epoch 11/20\n",
      "8/8 [==============================] - ETA: 0s - loss: 0.2544 - accuracy: 0.8989 \n",
      "Epoch 11: val_accuracy did not improve from 0.83673\n",
      "8/8 [==============================] - 89s 11s/step - loss: 0.2544 - accuracy: 0.8989 - val_loss: 0.4775 - val_accuracy: 0.8061\n",
      "Epoch 12/20\n",
      "8/8 [==============================] - ETA: 0s - loss: 0.1878 - accuracy: 0.9153\n",
      "Epoch 12: val_accuracy did not improve from 0.83673\n",
      "8/8 [==============================] - 72s 9s/step - loss: 0.1878 - accuracy: 0.9153 - val_loss: 0.5163 - val_accuracy: 0.7755\n",
      "Epoch 13/20\n",
      "8/8 [==============================] - ETA: 0s - loss: 0.1589 - accuracy: 0.9355\n",
      "Epoch 13: val_accuracy improved from 0.83673 to 0.87755, saving model to model_weights.h5\n",
      "8/8 [==============================] - 71s 9s/step - loss: 0.1589 - accuracy: 0.9355 - val_loss: 0.3334 - val_accuracy: 0.8776\n",
      "Epoch 14/20\n",
      "8/8 [==============================] - ETA: 0s - loss: 0.1133 - accuracy: 0.9583\n",
      "Epoch 14: val_accuracy improved from 0.87755 to 0.89796, saving model to model_weights.h5\n",
      "8/8 [==============================] - 71s 9s/step - loss: 0.1133 - accuracy: 0.9583 - val_loss: 0.3019 - val_accuracy: 0.8980\n",
      "Epoch 15/20\n",
      "8/8 [==============================] - ETA: 0s - loss: 0.0809 - accuracy: 0.9697\n",
      "Epoch 15: val_accuracy did not improve from 0.89796\n",
      "8/8 [==============================] - 70s 9s/step - loss: 0.0809 - accuracy: 0.9697 - val_loss: 0.3641 - val_accuracy: 0.8980\n",
      "Epoch 16/20\n",
      "8/8 [==============================] - ETA: 0s - loss: 0.0703 - accuracy: 0.9709\n",
      "Epoch 16: val_accuracy did not improve from 0.89796\n",
      "8/8 [==============================] - 70s 9s/step - loss: 0.0703 - accuracy: 0.9709 - val_loss: 0.4345 - val_accuracy: 0.8980\n",
      "Epoch 17/20\n",
      "8/8 [==============================] - ETA: 0s - loss: 0.0681 - accuracy: 0.9735\n",
      "Epoch 17: val_accuracy did not improve from 0.89796\n",
      "8/8 [==============================] - 69s 9s/step - loss: 0.0681 - accuracy: 0.9735 - val_loss: 0.4217 - val_accuracy: 0.8878\n",
      "Epoch 18/20\n",
      "8/8 [==============================] - ETA: 0s - loss: 0.0586 - accuracy: 0.9785\n",
      "Epoch 18: val_accuracy did not improve from 0.89796\n",
      "8/8 [==============================] - 69s 9s/step - loss: 0.0586 - accuracy: 0.9785 - val_loss: 0.6271 - val_accuracy: 0.8469\n",
      "Epoch 19/20\n",
      "8/8 [==============================] - ETA: 0s - loss: 0.0969 - accuracy: 0.9633\n",
      "Epoch 19: val_accuracy did not improve from 0.89796\n",
      "8/8 [==============================] - 78s 10s/step - loss: 0.0969 - accuracy: 0.9633 - val_loss: 0.6262 - val_accuracy: 0.8265\n",
      "Epoch 20/20\n",
      "8/8 [==============================] - ETA: 0s - loss: 0.1475 - accuracy: 0.9570\n",
      "Epoch 20: val_accuracy did not improve from 0.89796\n",
      "8/8 [==============================] - 72s 9s/step - loss: 0.1475 - accuracy: 0.9570 - val_loss: 0.2169 - val_accuracy: 0.8980\n"
     ]
    }
   ],
   "source": [
    "checkpoint = ModelCheckpoint(\"model_weights.h5\", monitor='val_accuracy', verbose=1, save_best_only=True, mode='max')\n",
    "callbacks_list = [checkpoint]\n",
    "history = model.fit(training_data, validation_data=validation_data, epochs = 20, callbacks=callbacks_list)"
   ]
  },
  {
   "cell_type": "code",
   "execution_count": 12,
   "id": "1d0e4f18",
   "metadata": {
    "execution": {
     "iopub.execute_input": "2022-06-06T11:45:04.374139Z",
     "iopub.status.busy": "2022-06-06T11:45:04.373501Z",
     "iopub.status.idle": "2022-06-06T11:45:04.381286Z",
     "shell.execute_reply": "2022-06-06T11:45:04.381827Z",
     "shell.execute_reply.started": "2022-06-06T11:11:37.400737Z"
    },
    "papermill": {
     "duration": 0.09748,
     "end_time": "2022-06-06T11:45:04.382001",
     "exception": false,
     "start_time": "2022-06-06T11:45:04.284521",
     "status": "completed"
    },
    "tags": []
   },
   "outputs": [],
   "source": [
    "model_json = model.to_json()\n",
    "with open(\"model.json\", \"w\") as json_file:\n",
    "    json_file.write(model_json)"
   ]
  },
  {
   "cell_type": "code",
   "execution_count": null,
   "id": "8663a254",
   "metadata": {
    "papermill": {
     "duration": 0.148052,
     "end_time": "2022-06-06T11:45:12.933355",
     "exception": false,
     "start_time": "2022-06-06T11:45:12.785303",
     "status": "completed"
    },
    "tags": []
   },
   "outputs": [],
   "source": []
  }
 ],
 "metadata": {
  "interpreter": {
   "hash": "916dbcbb3f70747c44a77c7bcd40155683ae19c65e1c03b4aa3499c5328201f1"
  },
  "kernelspec": {
   "display_name": "Python 3 (ipykernel)",
   "language": "python",
   "name": "python3"
  },
  "language_info": {
   "codemirror_mode": {
    "name": "ipython",
    "version": 3
   },
   "file_extension": ".py",
   "mimetype": "text/x-python",
   "name": "python",
   "nbconvert_exporter": "python",
   "pygments_lexer": "ipython3",
   "version": "3.9.13"
  },
  "papermill": {
   "default_parameters": {},
   "duration": 1402.432589,
   "end_time": "2022-06-06T11:45:16.380977",
   "environment_variables": {},
   "exception": null,
   "input_path": "__notebook__.ipynb",
   "output_path": "__notebook__.ipynb",
   "parameters": {},
   "start_time": "2022-06-06T11:21:53.948388",
   "version": "2.3.3"
  }
 },
 "nbformat": 4,
 "nbformat_minor": 5
}
